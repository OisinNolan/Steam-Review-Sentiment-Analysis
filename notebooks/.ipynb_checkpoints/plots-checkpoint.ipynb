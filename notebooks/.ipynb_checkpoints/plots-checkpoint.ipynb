{
 "cells": [
  {
   "cell_type": "markdown",
   "metadata": {},
   "source": [
    "# Data Distributions"
   ]
  },
  {
   "cell_type": "code",
   "execution_count": 1,
   "metadata": {},
   "outputs": [],
   "source": [
    "# Read data\n",
    "import json_lines\n",
    "X = []\n",
    "y = []\n",
    "z = []\n",
    "with open('data.txt', 'rb') as f:\n",
    "    for item in json_lines.reader(f):\n",
    "        X.append(item['text'])\n",
    "        y.append(item['voted_up'])\n",
    "        z.append(item['early_access'])"
   ]
  },
  {
   "cell_type": "code",
   "execution_count": 2,
   "metadata": {},
   "outputs": [
    {
     "data": {
      "text/plain": [
       "{'zh-cn': 125,\n",
       " 'en': 2052,\n",
       " 'tr': 254,\n",
       " 'af': 39,\n",
       " 'bg': 45,\n",
       " 'de': 199,\n",
       " 'tl': 43,\n",
       " 'ru': 830,\n",
       " 'es': 173,\n",
       " 'pt': 205,\n",
       " 'it': 29,\n",
       " 'pl': 107,\n",
       " 'symb': 113,\n",
       " 'fr': 91,\n",
       " 'sq': 6,\n",
       " 'ro': 22,\n",
       " 'sk': 17,\n",
       " 'so': 82,\n",
       " 'vi': 13,\n",
       " 'sl': 20,\n",
       " 'da': 22,\n",
       " 'cy': 24,\n",
       " 'no': 18,\n",
       " 'ja': 27,\n",
       " 'th': 20,\n",
       " 'ko': 107,\n",
       " 'et': 17,\n",
       " 'hr': 27,\n",
       " 'hu': 31,\n",
       " 'mk': 30,\n",
       " 'ca': 21,\n",
       " 'uk': 23,\n",
       " 'id': 22,\n",
       " 'fi': 6,\n",
       " 'nl': 45,\n",
       " 'cs': 25,\n",
       " 'sw': 15,\n",
       " 'sv': 6,\n",
       " 'lv': 4,\n",
       " 'lt': 0,\n",
       " 'zh-tw': 4}"
      ]
     },
     "execution_count": 2,
     "metadata": {},
     "output_type": "execute_result"
    }
   ],
   "source": [
    "from langdetect import detect\n",
    "\n",
    "langs = {}\n",
    "\n",
    "for i in range(len(X)):\n",
    "    text = X[i]\n",
    "    try:\n",
    "        lang = detect(text)\n",
    "    except:\n",
    "        lang = '?'\n",
    "    \n",
    "    try:\n",
    "        langs[lang] = langs[lang] + 1\n",
    "    except:\n",
    "        langs[lang] = 0\n",
    "        \n",
    "langs"
   ]
  },
  {
   "cell_type": "code",
   "execution_count": 26,
   "metadata": {},
   "outputs": [],
   "source": [
    "langs['?'] = langs.pop('n/a')"
   ]
  },
  {
   "cell_type": "code",
   "execution_count": 51,
   "metadata": {},
   "outputs": [
    {
     "data": {
      "text/plain": [
       "dict_items([('zh-cn', [71, 58]), ('en', [1107, 951]), ('tr', [131, 123]), ('af', [8, 33]), ('bg', [25, 26]), ('de', [107, 95]), ('tl', [17, 24]), ('ru', [436, 388]), ('es', [77, 97]), ('pt', [85, 118]), ('it', [14, 15]), ('pl', [47, 61]), ('fr', [46, 47]), ('sq', [4, 4]), ('ro', [5, 17]), ('sk', [8, 9]), ('so', [19, 64]), ('vi', [5, 7]), ('sl', [6, 14]), ('da', [5, 12]), ('cy', [11, 15]), ('no', [12, 6]), ('ja', [10, 17]), ('th', [9, 11]), ('ko', [64, 43]), ('et', [5, 12]), ('hr', [7, 19]), ('hu', [15, 16]), ('mk', [15, 14]), ('ca', [7, 11]), ('uk', [13, 11]), ('id', [14, 9]), ('fi', [4, 1]), ('nl', [26, 18]), ('cs', [13, 11]), ('sw', [5, 9]), ('sv', [3, 3]), ('lv', [3, 1]), ('lt', [1, 2]), ('zh-tw', [2, 0]), ('?', [37, 78])])"
      ]
     },
     "execution_count": 51,
     "metadata": {},
     "output_type": "execute_result"
    }
   ],
   "source": [
    "langs.items()"
   ]
  },
  {
   "cell_type": "code",
   "execution_count": null,
   "metadata": {},
   "outputs": [],
   "source": [
    "from langdetect import detect\n",
    "\n",
    "# Count number of y=True and z=True for each language\n",
    "\n",
    "lang_count = {}\n",
    "\n",
    "for i in range(len(X)):\n",
    "    text = X[i]\n",
    "    voted = y[i]\n",
    "    try:\n",
    "        lang = detect(text)\n",
    "    except:\n",
    "        lang = '?'\n",
    "    \n",
    "    try:\n",
    "        lang_count[lang][voted] = lang_count[lang][voted] + 1\n",
    "    except:\n",
    "        if voted:\n",
    "            lang_count[lang] = [0, 1]\n",
    "        else:\n",
    "            lang_count[lang] = [1, 0]"
   ]
  },
  {
   "cell_type": "code",
   "execution_count": 52,
   "metadata": {},
   "outputs": [],
   "source": [
    "lang_count_sorted = {k: v for k, v in sorted(lang_count.items(), key=lambda item: sum(item[1]), reverse=True)}"
   ]
  },
  {
   "cell_type": "code",
   "execution_count": 56,
   "metadata": {},
   "outputs": [
    {
     "data": {
      "image/png": "[encoded data removed]",
      "text/plain": [
       "<Figure size 1440x360 with 1 Axes>"
      ]
     },
     "metadata": {
      "needs_background": "light"
     },
     "output_type": "display_data"
    }
   ],
   "source": [
    "import matplotlib.pyplot as plt\n",
    "\n",
    "not_voted = [item[1][0] for item in lang_count_sorted.items()]\n",
    "voted = [item[1][1] for item in lang_count_sorted.items()]\n",
    "\n",
    "plt.bar(range(len(langs_sorted)), not_voted, align='center')\n",
    "plt.bar(range(len(langs_sorted)), voted, bottom=not_voted, align='center')\n",
    "plt.xticks(range(len(langs_sorted)), list(langs_sorted.keys()))\n",
    "plt.xlabel('Language code', fontsize=16)\n",
    "plt.ylabel('# Reviews', fontsize=16)\n",
    "plt.title('Review Language Distribution', fontsize=20)\n",
    "plt.legend(('Not Voted Up', 'Voted Up'))\n",
    "plt.gcf().set_size_inches(20, 5)\n",
    "plt.show()"
   ]
  },
  {
   "cell_type": "code",
   "execution_count": null,
   "metadata": {},
   "outputs": [],
   "source": [
    "from langdetect import detect\n",
    "\n",
    "# Count number of y=True and z=True for each language\n",
    "\n",
    "lang_count_early = {}\n",
    "\n",
    "for i in range(5):\n",
    "    text = X[i]\n",
    "    early = z[i]\n",
    "    try:\n",
    "        lang = detect(text)\n",
    "    except:\n",
    "        lang = '?'\n",
    "    \n",
    "    try:\n",
    "        lang_count_early[lang][early] = lang_count_early[lang][early] + 1\n",
    "    except:\n",
    "        if early:\n",
    "            lang_count_early[lang] = [0, 1]\n",
    "        else:\n",
    "            lang_count_early[lang] = [1, 0]\n",
    "            \n",
    "lang_count_early"
   ]
  }
 ],
 "metadata": {
  "kernelspec": {
   "display_name": "Python 3",
   "language": "python",
   "name": "python3"
  },
  "language_info": {
   "codemirror_mode": {
    "name": "ipython",
    "version": 3
   },
   "file_extension": ".py",
   "mimetype": "text/x-python",
   "name": "python",
   "nbconvert_exporter": "python",
   "pygments_lexer": "ipython3",
   "version": "3.7.6"
  }
 },
 "nbformat": 4,
 "nbformat_minor": 4
}
